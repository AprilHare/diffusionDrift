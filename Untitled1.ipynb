{
 "cells": [
  {
   "cell_type": "code",
   "execution_count": 21,
   "metadata": {
    "collapsed": false
   },
   "outputs": [],
   "source": [
    "import basicSim\n",
    "import pandas as pd\n",
    "import numpy as np\n",
    "\n",
    "params = {'vx':0, 'vy':0, 'D':1, 't':20, 'N':50}\n",
    "trajectory = basicSim.runSim( [ params['vx'], params['vy'] ], abs( params['D'] ), max( int( params['t'] ), 1), max( int( params['N'] ), 1) )\n",
    "\n",
    "sim_data = []\n",
    "for i in range(params['t']):\n",
    "    x= [i for j in range(len(trajectory[:,:,i].tolist()))]\n",
    "    sim_data.append(zip(x,trajectory[:,0,i].tolist(),trajectory[:,1,i].tolist()))\n",
    "x = np.asarray(sim_data).tolist()\n",
    "\n",
    "f = open('data.tsv', 'w')\n",
    "for i in x:\n",
    "    for j in i:\n",
    "        f.write(str(j[0])+\"\\t\"+str(j[1])+\"\\t\"+str(j[2])+\"\\n\")\n",
    "f.close"
   ]
  },
  {
   "cell_type": "code",
   "execution_count": 25,
   "metadata": {
    "collapsed": false
   },
   "outputs": [
    {
     "data": {
      "text/plain": [
       "str"
      ]
     },
     "execution_count": 25,
     "metadata": {},
     "output_type": "execute_result"
    }
   ],
   "source": []
  },
  {
   "cell_type": "code",
   "execution_count": 82,
   "metadata": {
    "collapsed": false
   },
   "outputs": [
    {
     "data": {
      "text/html": [
       "<div>\n",
       "<table border=\"1\" class=\"dataframe\">\n",
       "  <thead>\n",
       "    <tr style=\"text-align: right;\">\n",
       "      <th></th>\n",
       "      <th>1.40758622667</th>\n",
       "      <th>1.03193588356</th>\n",
       "      <th>1.47784310975</th>\n",
       "      <th>0.859347506248</th>\n",
       "      <th>1.29383458574</th>\n",
       "      <th>0.798986517253</th>\n",
       "      <th>1.47834484256</th>\n",
       "      <th>-1.22150805368</th>\n",
       "      <th>-0.911456265671</th>\n",
       "      <th>-1.20316815679</th>\n",
       "      <th>...</th>\n",
       "      <th>4.97813413662</th>\n",
       "      <th>6.23654319883</th>\n",
       "      <th>7.148273006</th>\n",
       "      <th>5.72296932497</th>\n",
       "      <th>5.78747857216</th>\n",
       "      <th>3.96006384048</th>\n",
       "      <th>5.00374322462</th>\n",
       "      <th>4.61722866961</th>\n",
       "      <th>2.27546385425</th>\n",
       "      <th>1.63903304923</th>\n",
       "    </tr>\n",
       "    <tr>\n",
       "      <th>0.0</th>\n",
       "      <th></th>\n",
       "      <th></th>\n",
       "      <th></th>\n",
       "      <th></th>\n",
       "      <th></th>\n",
       "      <th></th>\n",
       "      <th></th>\n",
       "      <th></th>\n",
       "      <th></th>\n",
       "      <th></th>\n",
       "      <th></th>\n",
       "      <th></th>\n",
       "      <th></th>\n",
       "      <th></th>\n",
       "      <th></th>\n",
       "      <th></th>\n",
       "      <th></th>\n",
       "      <th></th>\n",
       "      <th></th>\n",
       "      <th></th>\n",
       "      <th></th>\n",
       "    </tr>\n",
       "  </thead>\n",
       "  <tbody>\n",
       "  </tbody>\n",
       "</table>\n",
       "<p>0 rows × 1999 columns</p>\n",
       "</div>"
      ],
      "text/plain": [
       "Empty DataFrame\n",
       "Columns: [1.40758622667, 1.03193588356, 1.47784310975, 0.859347506248, 1.29383458574, 0.798986517253, 1.47834484256, -1.22150805368, -0.911456265671, -1.20316815679, -1.08961088035, -1.89937618589, -1.71358659301, -3.18443209043, -2.55882411541, -4.78954874699, -3.69162755867, -3.20933689591, -2.29632340214, 0.0.1, -0.0466330503199, -0.199415216615, 0.573814195387, 0.948576477497, 0.15632660909, -1.81954726465, -2.75021006173, -2.63897727461, -2.51446950918, -2.64323527306, -3.20238842328, -3.37871093597, -3.46563224494, -3.77869046063, -2.53857846679, -2.90326691852, -2.17177271734, -4.32925090781, -4.26797360781, 0.0.2, 1.68861212246, 3.5603618482, 3.78264055078, 4.35132959149, 3.77015176388, 4.99169787326, 6.13938368988, 6.15724875737, 7.65839280703, 7.47931955669, 8.93569262325, 11.7740104745, 13.074635825, 13.5604710261, 13.3237362916, 14.0801831649, 14.7734777628, 15.1037870151, 15.1014230615, 0.0.3, -0.0814590317883, -1.65737702975, -2.34638946232, -3.11361655367, -2.76203467904, -1.9879200647, -3.23219330367, -3.54891360636, -3.2381357053, -3.64673720057, -3.05909803624, -3.27918204903, -2.92377036172, -4.21516022047, -5.58299357758, -5.05770226351, -4.97405822285, -6.55041571733, -5.95764528597, 0.0.4, -2.57317165139, -3.35384093727, -4.54011761487, -5.42426391581, -5.7839056158, -5.88747835786, -5.64832165665, -5.18868974193, -4.6325711173, -4.22778462154, -4.21613195124, -1.58698189176, -3.48627890577, -3.18233853764, -2.68922296062, -0.980886545222, -1.34944387004, 0.471037934264, -0.0809568611526, 0.0.5, ...]\n",
       "Index: []\n",
       "\n",
       "[0 rows x 1999 columns]"
      ]
     },
     "execution_count": 82,
     "metadata": {},
     "output_type": "execute_result"
    }
   ],
   "source": []
  },
  {
   "cell_type": "code",
   "execution_count": null,
   "metadata": {
    "collapsed": true
   },
   "outputs": [],
   "source": []
  }
 ],
 "metadata": {
  "kernelspec": {
   "display_name": "Python 2",
   "language": "python",
   "name": "python2"
  },
  "language_info": {
   "codemirror_mode": {
    "name": "ipython",
    "version": 2
   },
   "file_extension": ".py",
   "mimetype": "text/x-python",
   "name": "python",
   "nbconvert_exporter": "python",
   "pygments_lexer": "ipython2",
   "version": "2.7.11"
  }
 },
 "nbformat": 4,
 "nbformat_minor": 0
}
